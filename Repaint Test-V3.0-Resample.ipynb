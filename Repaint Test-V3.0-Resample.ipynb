{
 "cells": [
  {
   "cell_type": "code",
   "execution_count": 1,
   "id": "5b2ce080",
   "metadata": {},
   "outputs": [],
   "source": [
    "seed = 66\n",
    "\n",
    "import matplotlib.pyplot as plt\n",
    "\n",
    "import numpy as np\n",
    "import pandas as pd\n",
    "import torch\n",
    "import torch.nn as nn\n",
    "np.set_printoptions(suppress=True)\n",
    "np.random.seed(seed)\n",
    "from mpl_toolkits.axes_grid1 import ImageGrid\n",
    "torch.manual_seed(seed)\n",
    "torch.cuda.manual_seed(seed)\n",
    "\n",
    "import time\n",
    "\n",
    "import warnings\n",
    "warnings.filterwarnings('ignore')\n",
    "\n",
    "from torch.utils.data import TensorDataset,Dataset,DataLoader,random_split \n",
    "\n",
    "device = torch.device(\"cuda:0\" if torch.cuda.is_available() else \"cpu\")"
   ]
  },
  {
   "cell_type": "code",
   "execution_count": 2,
   "id": "28d94f57",
   "metadata": {},
   "outputs": [],
   "source": [
    "from unet import UNetModel\n",
    "\n",
    "import tqdm\n",
    "import torch.nn.functional as F"
   ]
  },
  {
   "cell_type": "markdown",
   "id": "752dca65",
   "metadata": {},
   "source": [
    "##  Load Data"
   ]
  },
  {
   "cell_type": "code",
   "execution_count": 3,
   "id": "b691256e",
   "metadata": {},
   "outputs": [],
   "source": [
    "# In[2]\n",
    "\n",
    "#Data Processing\n",
    "data = pd.read_csv(\"F:data/BeijingLoad.csv\", header=None)\n",
    "ori_data = np.array(data)\n",
    "\n",
    "#Gramian Angular Field\n",
    "from pyts.image import GramianAngularField\n",
    "transformer = GramianAngularField(sample_range=(0,1),method='s')\n",
    "\n",
    "ori_gasf,scaled_data = transformer.transform(ori_data)\n",
    "\n",
    "#ori_data——原始的365天负荷数据\n",
    "#scaled_data——归一化后的365天负荷数据\n",
    "#ori_gasf——完整的格拉姆角场图，365天\n",
    "scaled_data = np.where(scaled_data>=1.,1.,scaled_data)\n",
    "scaled_data = np.where(scaled_data<= -1.,-1.,scaled_data)"
   ]
  },
  {
   "cell_type": "code",
   "execution_count": 4,
   "id": "282064c8",
   "metadata": {},
   "outputs": [],
   "source": [
    "plt.rcParams['font.sans-serif'] = ['Times new Roman']\n",
    "plt.rcParams['font.size'] = 12"
   ]
  },
  {
   "cell_type": "code",
   "execution_count": 5,
   "id": "5f632361",
   "metadata": {},
   "outputs": [],
   "source": [
    "from matplotlib.pyplot import MultipleLocator\n",
    "from mpl_toolkits.axes_grid1.inset_locator import mark_inset\n",
    "from mpl_toolkits.axes_grid1.inset_locator import inset_axes"
   ]
  },
  {
   "cell_type": "code",
   "execution_count": 6,
   "id": "34d6bef5",
   "metadata": {},
   "outputs": [],
   "source": [
    "new_transformer = GramianAngularField(sample_range=None,method='s')"
   ]
  },
  {
   "cell_type": "code",
   "execution_count": 7,
   "id": "683edfa7",
   "metadata": {},
   "outputs": [],
   "source": [
    "#Data Split\n",
    "\n",
    "train_set = scaled_data[:300]\n",
    "test_set = scaled_data[300:]\n",
    "\n",
    "batch_size = 20\n",
    "\n"
   ]
  },
  {
   "cell_type": "code",
   "execution_count": 8,
   "id": "d04b9409",
   "metadata": {},
   "outputs": [],
   "source": [
    "def get_plot_data(x):\n",
    "    x = x.cpu()\n",
    "    x.squeeze_(1)\n",
    "    x = np.array(x)\n",
    "    return x"
   ]
  },
  {
   "cell_type": "code",
   "execution_count": 9,
   "id": "12823c7a",
   "metadata": {},
   "outputs": [],
   "source": [
    "#取出GAF图像\n",
    "train_loader = DataLoader(train_set,batch_size=batch_size,shuffle = True,drop_last=True)"
   ]
  },
  {
   "cell_type": "markdown",
   "id": "6f4464aa",
   "metadata": {},
   "source": [
    "##  Train Diffusion Network"
   ]
  },
  {
   "cell_type": "code",
   "execution_count": 10,
   "id": "6b60d5b9",
   "metadata": {},
   "outputs": [
    {
     "name": "stdout",
     "output_type": "stream",
     "text": [
      "Loaded model\n"
     ]
    }
   ],
   "source": [
    "# Train network\n",
    "net = UNetModel(image_size=24, in_channels=1, out_channels=1, \n",
    "                model_channels=64, num_res_blocks=2, channel_mult=(1,2,3,4),\n",
    "                attention_resolutions=[8,4], num_heads=4).to(device)\n",
    "\n",
    "net.load_state_dict(torch.load('unet_new.pth'))\n",
    "net.to(device)\n",
    "net.train()\n",
    "print('Loaded model')"
   ]
  },
  {
   "cell_type": "code",
   "execution_count": 11,
   "id": "0da6faa9",
   "metadata": {},
   "outputs": [],
   "source": [
    "def compute_schedule(T, beta_min, beta_max, device):\n",
    "    betas = torch.linspace(beta_min, beta_max, steps=T, device=device)\n",
    "    alphas = 1 - betas\n",
    "\n",
    "    std_t = torch.sqrt(betas)\n",
    "    alpha_bar = torch.cumprod(alphas, dim=0)\n",
    "    sqrt_alpha_bar = torch.sqrt(alpha_bar)\n",
    "    sqrt_one_minus_alpha_bar = torch.sqrt(1 - alpha_bar)\n",
    "\n",
    "    schedule_hparams = {\n",
    "        \"std_t\": std_t,\n",
    "        \"alphas\": alphas,\n",
    "        \"sqrt_alpha_bar\": sqrt_alpha_bar,\n",
    "        \"sqrt_one_minus_alpha_bar\": sqrt_one_minus_alpha_bar,\n",
    "        \"oneover_sqrta\": 1 / torch.sqrt(alphas),\n",
    "        \"mab_over_sqrtmab\": (1 - alphas) / sqrt_one_minus_alpha_bar,\n",
    "    }\n",
    "    return schedule_hparams\n",
    "\n",
    "def sample(T, schedule, img_shape, unet, device):\n",
    "    with torch.no_grad():\n",
    "        seed = torch.randn(*img_shape).to(device=device)\n",
    "        for i in range(T, 0, -1):\n",
    "            z = torch.randn(*img_shape).to(device=device) if i > 1 else 0\n",
    "            ts = torch.ones(1).to(device) * i\n",
    "\n",
    "            pred_eps = net(seed, ts.float())\n",
    "            term1 = schedule[\"oneover_sqrta\"][i - 1]\n",
    "            term2 = seed - (schedule[\"mab_over_sqrtmab\"][i - 1] * pred_eps)\n",
    "            term3 = z * schedule[\"std_t\"][i - 1]\n",
    "\n",
    "            seed = term1 * term2 + term3\n",
    "\n",
    "        return seed"
   ]
  },
  {
   "cell_type": "markdown",
   "id": "269989b5",
   "metadata": {},
   "source": [
    "## Preparation"
   ]
  },
  {
   "cell_type": "code",
   "execution_count": 12,
   "id": "87633151",
   "metadata": {},
   "outputs": [],
   "source": [
    "#mask generate\n",
    "def sample_M(no, dim, miss_rate):\n",
    "    A = np.random.uniform(0., 1., size = [no, dim])\n",
    "    B = A > miss_rate\n",
    "    C = 1.*B\n",
    "    return torch.Tensor(C)\n",
    "\n",
    "def mask_generate():\n",
    "    mask_2d = np.zeros(shape = [batch_size,dim,dim])\n",
    "    for i in range(mask_1d.shape[0]):\n",
    "        mask_ = mask_1d[i]\n",
    "        mask_x,mask_y = np.meshgrid(mask_,mask_)\n",
    "        mask_2d[i] = mask_x*mask_y\n",
    "    return torch.tensor(mask_2d,dtype=torch.float32)"
   ]
  },
  {
   "cell_type": "code",
   "execution_count": 13,
   "id": "ea5ac73d",
   "metadata": {},
   "outputs": [],
   "source": [
    "batch_size = 20\n",
    "dim = 24\n",
    "miss_rate = 0.2"
   ]
  },
  {
   "cell_type": "code",
   "execution_count": 14,
   "id": "7ad868ab",
   "metadata": {},
   "outputs": [
    {
     "name": "stdout",
     "output_type": "stream",
     "text": [
      "torch.Size([20, 1, 24, 24])\n",
      "torch.Size([20, 1, 24, 24])\n",
      "torch.Size([20, 1, 24, 24])\n",
      "torch.float32\n",
      "torch.float32\n",
      "torch.float32\n"
     ]
    }
   ],
   "source": [
    "for scaled_data in train_loader:\n",
    "    #完整图像\n",
    "    imgs,_ = new_transformer.transform(scaled_data)\n",
    "    #破损图像\n",
    "    broke_data = scaled_data\n",
    "    \n",
    "    mask_1d = sample_M(batch_size,dim,miss_rate)\n",
    "    \n",
    "    broke_data[mask_1d==0] = 0.\n",
    "    \n",
    "    broke_imgs,_ = new_transformer.transform(broke_data)\n",
    "    mask = mask_generate()\n",
    "    \n",
    "    imgs = torch.tensor(imgs,dtype=torch.float32)\n",
    "    broke_imgs = torch.tensor(broke_imgs,dtype=torch.float32)\n",
    "    \n",
    "    imgs = imgs.unsqueeze(1)\n",
    "    broke_imgs = broke_imgs.unsqueeze(1)\n",
    "    mask = mask.unsqueeze(1)\n",
    "    \n",
    "    print(imgs.shape)\n",
    "    print(broke_imgs.shape)\n",
    "    print(mask.shape)\n",
    "    \n",
    "    print(imgs.dtype)\n",
    "    print(broke_imgs.dtype)\n",
    "    print(mask.dtype) \n",
    "    \n",
    "    break"
   ]
  },
  {
   "cell_type": "markdown",
   "id": "6f8bae44",
   "metadata": {},
   "source": [
    "## Repair"
   ]
  },
  {
   "cell_type": "code",
   "execution_count": 15,
   "id": "2ffbefa4",
   "metadata": {},
   "outputs": [],
   "source": [
    "# HyperParameters\n",
    "T = 1000\n",
    "beta_min = 1e-4\n",
    "beta_max = 0.02\n",
    "epochs = 100\n",
    "\n",
    "\n",
    "device = \"cuda\" if torch.cuda.is_available() else \"cpu\"\n",
    "\n",
    "schedule = compute_schedule(T, beta_min, beta_max, device)\n"
   ]
  },
  {
   "cell_type": "code",
   "execution_count": 34,
   "id": "7a2eff54",
   "metadata": {},
   "outputs": [],
   "source": [
    "U = 3"
   ]
  },
  {
   "cell_type": "code",
   "execution_count": 17,
   "id": "d5517bc9",
   "metadata": {},
   "outputs": [],
   "source": [
    "#取出1_d scaled data\n",
    "test_loader = DataLoader(test_set,batch_size=batch_size,shuffle=False,drop_last=True)"
   ]
  },
  {
   "cell_type": "code",
   "execution_count": 18,
   "id": "9488ba6c",
   "metadata": {},
   "outputs": [],
   "source": [
    "for scaled_data in test_loader:\n",
    "    #完整图像\n",
    "    imgs,_ = new_transformer.transform(scaled_data)\n",
    "\n",
    "    #破损图像\n",
    "    broke_imgs = imgs.copy()\n",
    "    \n",
    "    mask_1d = sample_M(batch_size,dim,miss_rate)\n",
    "    \n",
    "    mask = mask_generate()\n",
    "    \n",
    "    broke_imgs[mask==0] = 0.\n",
    "    '''\n",
    "    imgs = torch.tensor(imgs,dtype=torch.float32)\n",
    "    broke_imgs = torch.tensor(broke_imgs,dtype=torch.float32)\n",
    "    \n",
    "    imgs = imgs.unsqueeze(1)\n",
    "    broke_imgs = broke_imgs.unsqueeze(1)\n",
    "    mask = mask.unsqueeze(1)\n",
    "    \n",
    "\n",
    "    \n",
    "    print(imgs.shape)\n",
    "    print(broke_imgs.shape)\n",
    "    print(mask.shape)\n",
    "    \n",
    "    print(imgs.dtype)\n",
    "    print(broke_imgs.dtype)\n",
    "    print(mask.dtype) \n",
    "    '''\n",
    "    break"
   ]
  },
  {
   "cell_type": "code",
   "execution_count": 48,
   "id": "2b121689",
   "metadata": {},
   "outputs": [
    {
     "data": {
      "image/png": "[encoded data removed]",
      "text/plain": [
       "<Figure size 300x300 with 1 Axes>"
      ]
     },
     "metadata": {},
     "output_type": "display_data"
    }
   ],
   "source": [
    "plt.figure(figsize=(3, 3))\n",
    "    \n",
    "plt.imshow(imgs[16],cmap='rainbow', origin='lower', vmin=-1., vmax=1.)\n",
    "ax = plt.gca()\n",
    "\n",
    "ax.set_xticks([])\n",
    "ax.set_yticks([])\n",
    "#plt.savefig('resample_original.png')"
   ]
  },
  {
   "cell_type": "code",
   "execution_count": 37,
   "id": "4e893041",
   "metadata": {},
   "outputs": [],
   "source": [
    "imgs = get_plot_data(imgs)"
   ]
  },
  {
   "cell_type": "code",
   "execution_count": 29,
   "id": "943224cb",
   "metadata": {},
   "outputs": [],
   "source": [
    "broke_imgs = get_plot_data(broke_imgs)"
   ]
  },
  {
   "cell_type": "code",
   "execution_count": 30,
   "id": "2d5d99f5",
   "metadata": {},
   "outputs": [
    {
     "data": {
      "text/plain": [
       "(20, 24, 24)"
      ]
     },
     "execution_count": 30,
     "metadata": {},
     "output_type": "execute_result"
    }
   ],
   "source": [
    "broke_imgs.shape"
   ]
  },
  {
   "cell_type": "code",
   "execution_count": 19,
   "id": "f49a844e",
   "metadata": {},
   "outputs": [
    {
     "data": {
      "image/png": "[encoded data removed]",
      "text/plain": [
       "<Figure size 1000x500 with 12 Axes>"
      ]
     },
     "metadata": {},
     "output_type": "display_data"
    }
   ],
   "source": [
    "fig = plt.figure(figsize=(10, 5))\n",
    "\n",
    "grid = ImageGrid(fig, 111, nrows_ncols=(2, 3), axes_pad=0.1, share_all=True,\n",
    "                 cbar_mode='single')\n",
    "for i, ax in enumerate(grid):\n",
    "    im = ax.imshow(broke_imgs[i+12], cmap='rainbow', origin='lower', vmin=-1., vmax=1.)\n",
    "grid[0].get_yaxis().set_ticks([])\n",
    "grid[0].get_xaxis().set_ticks([])\n",
    "plt.colorbar(im, cax=grid.cbar_axes[0])\n",
    "ax.cax.toggle_label(True)\n",
    "'''\n",
    "fig.suptitle(\"Corrupt GASF for the 12 time series in the \"\n",
    "             \"'Beijing Load' dataset\", y=0.92)\n",
    "'''\n",
    "#plt.savefig('broke_img.png')\n",
    "plt.show()"
   ]
  },
  {
   "cell_type": "code",
   "execution_count": 49,
   "id": "2e8e80c5",
   "metadata": {},
   "outputs": [
    {
     "data": {
      "image/png": "[encoded data removed]",
      "text/plain": [
       "<Figure size 300x300 with 1 Axes>"
      ]
     },
     "metadata": {},
     "output_type": "display_data"
    }
   ],
   "source": [
    "plt.figure(figsize=(3, 3))\n",
    "    \n",
    "plt.imshow(broke_imgs[16],cmap='rainbow', origin='lower', vmin=-1., vmax=1.)\n",
    "ax = plt.gca()\n",
    "\n",
    "ax.set_xticks([])\n",
    "ax.set_yticks([])\n",
    "\n",
    "#plt.savefig('resample_mask.png')"
   ]
  },
  {
   "cell_type": "code",
   "execution_count": 39,
   "id": "bd183efd",
   "metadata": {},
   "outputs": [
    {
     "data": {
      "image/png": "[encoded data removed]",
      "text/plain": [
       "<Figure size 300x300 with 1 Axes>"
      ]
     },
     "metadata": {},
     "output_type": "display_data"
    }
   ],
   "source": [
    "plt.figure(figsize=(3, 3))\n",
    "    \n",
    "plt.imshow(inpaint_data[16],cmap='rainbow', origin='lower', vmin=-1., vmax=1.)\n",
    "ax = plt.gca()\n",
    "\n",
    "ax.set_xticks([])\n",
    "ax.set_yticks([])\n",
    "\n",
    "plt.savefig('resample_u_11.png')"
   ]
  },
  {
   "cell_type": "code",
   "execution_count": 37,
   "id": "50aa3cff",
   "metadata": {},
   "outputs": [
    {
     "data": {
      "image/png": "[encoded data removed]",
      "text/plain": [
       "<Figure size 1000x500 with 12 Axes>"
      ]
     },
     "metadata": {},
     "output_type": "display_data"
    }
   ],
   "source": [
    "fig = plt.figure(figsize=(10, 5))\n",
    "\n",
    "grid = ImageGrid(fig, 111, nrows_ncols=(2, 3), axes_pad=0.1, share_all=True,\n",
    "                 cbar_mode='single')\n",
    "for i, ax in enumerate(grid):\n",
    "    im = ax.imshow(inpaint_data[i+12], cmap='rainbow', origin='lower', vmin=-1., vmax=1.)\n",
    "grid[0].get_yaxis().set_ticks([])\n",
    "grid[0].get_xaxis().set_ticks([])\n",
    "plt.colorbar(im, cax=grid.cbar_axes[0])\n",
    "ax.cax.toggle_label(True)\n",
    "'''\n",
    "fig.suptitle(\"Repair GASF for the 12 time series in the \"\n",
    "             \"'Beijing Load' dataset\", y=0.92)\n",
    "'''\n",
    "#plt.savefig('inpaint_img.png')\n",
    "plt.show()"
   ]
  },
  {
   "cell_type": "code",
   "execution_count": 20,
   "id": "d489bcd1",
   "metadata": {},
   "outputs": [],
   "source": [
    "imgs = torch.tensor(imgs,dtype=torch.float32)\n",
    "broke_imgs = torch.tensor(broke_imgs,dtype=torch.float32)\n",
    "\n",
    "imgs = imgs.unsqueeze(1)\n",
    "broke_imgs = broke_imgs.unsqueeze(1)\n",
    "mask = mask.unsqueeze(1)\n",
    "\n",
    "imgs = imgs.to(device)\n",
    "broke_imgs = broke_imgs.to(device)\n",
    "mask = mask.to(device)"
   ]
  },
  {
   "cell_type": "code",
   "execution_count": 35,
   "id": "c176b4d4",
   "metadata": {},
   "outputs": [],
   "source": [
    "x = imgs"
   ]
  },
  {
   "cell_type": "code",
   "execution_count": 36,
   "id": "8e6732bb",
   "metadata": {
    "scrolled": true
   },
   "outputs": [
    {
     "name": "stdout",
     "output_type": "stream",
     "text": [
      "1000\n",
      "999\n",
      "998\n",
      "997\n",
      "996\n",
      "995\n",
      "994\n",
      "993\n",
      "992\n",
      "991\n",
      "990\n",
      "989\n",
      "988\n",
      "987\n",
      "986\n",
      "985\n",
      "984\n",
      "983\n",
      "982\n",
      "981\n",
      "980\n",
      "979\n",
      "978\n",
      "977\n",
      "976\n",
      "975\n",
      "974\n",
      "973\n",
      "972\n",
      "971\n",
      "970\n",
      "969\n",
      "968\n",
      "967\n",
      "966\n",
      "965\n",
      "964\n",
      "963\n",
      "962\n",
      "961\n",
      "960\n",
      "959\n",
      "958\n",
      "957\n",
      "956\n",
      "955\n",
      "954\n",
      "953\n",
      "952\n",
      "951\n",
      "950\n",
      "949\n",
      "948\n",
      "947\n",
      "946\n",
      "945\n",
      "944\n",
      "943\n",
      "942\n",
      "941\n",
      "940\n",
      "939\n",
      "938\n",
      "937\n",
      "936\n",
      "935\n",
      "934\n",
      "933\n",
      "932\n",
      "931\n",
      "930\n",
      "929\n",
      "928\n",
      "927\n",
      "926\n",
      "925\n",
      "924\n",
      "923\n",
      "922\n",
      "921\n",
      "920\n",
      "919\n",
      "918\n",
      "917\n",
      "916\n",
      "915\n",
      "914\n",
      "913\n",
      "912\n",
      "911\n",
      "910\n",
      "909\n",
      "908\n",
      "907\n",
      "906\n",
      "905\n",
      "904\n",
      "903\n",
      "902\n",
      "901\n",
      "900\n",
      "899\n",
      "898\n",
      "897\n",
      "896\n",
      "895\n",
      "894\n",
      "893\n",
      "892\n",
      "891\n",
      "890\n",
      "889\n",
      "888\n",
      "887\n",
      "886\n",
      "885\n",
      "884\n",
      "883\n",
      "882\n",
      "881\n",
      "880\n",
      "879\n",
      "878\n",
      "877\n",
      "876\n",
      "875\n",
      "874\n",
      "873\n",
      "872\n",
      "871\n",
      "870\n",
      "869\n",
      "868\n",
      "867\n",
      "866\n",
      "865\n",
      "864\n",
      "863\n",
      "862\n",
      "861\n",
      "860\n",
      "859\n",
      "858\n",
      "857\n",
      "856\n",
      "855\n",
      "854\n",
      "853\n",
      "852\n",
      "851\n",
      "850\n",
      "849\n",
      "848\n",
      "847\n",
      "846\n",
      "845\n",
      "844\n",
      "843\n",
      "842\n",
      "841\n",
      "840\n",
      "839\n",
      "838\n",
      "837\n",
      "836\n",
      "835\n",
      "834\n",
      "833\n",
      "832\n",
      "831\n",
      "830\n",
      "829\n",
      "828\n",
      "827\n",
      "826\n",
      "825\n",
      "824\n",
      "823\n",
      "822\n",
      "821\n",
      "820\n",
      "819\n",
      "818\n",
      "817\n",
      "816\n",
      "815\n",
      "814\n",
      "813\n",
      "812\n",
      "811\n",
      "810\n",
      "809\n",
      "808\n",
      "807\n",
      "806\n",
      "805\n",
      "804\n",
      "803\n",
      "802\n",
      "801\n",
      "800\n",
      "799\n",
      "798\n",
      "797\n",
      "796\n",
      "795\n",
      "794\n",
      "793\n",
      "792\n",
      "791\n",
      "790\n",
      "789\n",
      "788\n",
      "787\n",
      "786\n",
      "785\n",
      "784\n",
      "783\n",
      "782\n",
      "781\n",
      "780\n",
      "779\n",
      "778\n",
      "777\n",
      "776\n",
      "775\n",
      "774\n",
      "773\n",
      "772\n",
      "771\n",
      "770\n",
      "769\n",
      "768\n",
      "767\n",
      "766\n",
      "765\n",
      "764\n",
      "763\n",
      "762\n",
      "761\n",
      "760\n",
      "759\n",
      "758\n",
      "757\n",
      "756\n",
      "755\n",
      "754\n",
      "753\n",
      "752\n",
      "751\n",
      "750\n",
      "749\n",
      "748\n",
      "747\n",
      "746\n",
      "745\n",
      "744\n",
      "743\n",
      "742\n",
      "741\n",
      "740\n",
      "739\n",
      "738\n",
      "737\n",
      "736\n",
      "735\n",
      "734\n",
      "733\n",
      "732\n",
      "731\n",
      "730\n",
      "729\n",
      "728\n",
      "727\n",
      "726\n",
      "725\n",
      "724\n",
      "723\n",
      "722\n",
      "721\n",
      "720\n",
      "719\n",
      "718\n",
      "717\n",
      "716\n",
      "715\n",
      "714\n",
      "713\n",
      "712\n",
      "711\n",
      "710\n",
      "709\n",
      "708\n",
      "707\n",
      "706\n",
      "705\n",
      "704\n",
      "703\n",
      "702\n",
      "701\n",
      "700\n",
      "699\n",
      "698\n",
      "697\n",
      "696\n",
      "695\n",
      "694\n",
      "693\n",
      "692\n",
      "691\n",
      "690\n",
      "689\n",
      "688\n",
      "687\n",
      "686\n",
      "685\n",
      "684\n",
      "683\n",
      "682\n",
      "681\n",
      "680\n",
      "679\n",
      "678\n",
      "677\n",
      "676\n",
      "675\n",
      "674\n",
      "673\n",
      "672\n",
      "671\n",
      "670\n",
      "669\n",
      "668\n",
      "667\n",
      "666\n",
      "665\n",
      "664\n",
      "663\n",
      "662\n",
      "661\n",
      "660\n",
      "659\n",
      "658\n",
      "657\n",
      "656\n",
      "655\n",
      "654\n",
      "653\n",
      "652\n",
      "651\n",
      "650\n",
      "649\n",
      "648\n",
      "647\n",
      "646\n",
      "645\n",
      "644\n",
      "643\n",
      "642\n",
      "641\n",
      "640\n",
      "639\n",
      "638\n",
      "637\n",
      "636\n",
      "635\n",
      "634\n",
      "633\n",
      "632\n",
      "631\n",
      "630\n",
      "629\n",
      "628\n",
      "627\n",
      "626\n",
      "625\n",
      "624\n",
      "623\n",
      "622\n",
      "621\n",
      "620\n",
      "619\n",
      "618\n",
      "617\n",
      "616\n",
      "615\n",
      "614\n",
      "613\n",
      "612\n",
      "611\n",
      "610\n",
      "609\n",
      "608\n",
      "607\n",
      "606\n",
      "605\n",
      "604\n",
      "603\n",
      "602\n",
      "601\n",
      "600\n",
      "599\n",
      "598\n",
      "597\n",
      "596\n",
      "595\n",
      "594\n",
      "593\n",
      "592\n",
      "591\n",
      "590\n",
      "589\n",
      "588\n",
      "587\n",
      "586\n",
      "585\n",
      "584\n",
      "583\n",
      "582\n",
      "581\n",
      "580\n",
      "579\n",
      "578\n",
      "577\n",
      "576\n",
      "575\n",
      "574\n",
      "573\n",
      "572\n",
      "571\n",
      "570\n",
      "569\n",
      "568\n",
      "567\n",
      "566\n",
      "565\n",
      "564\n",
      "563\n",
      "562\n",
      "561\n",
      "560\n",
      "559\n",
      "558\n",
      "557\n",
      "556\n",
      "555\n",
      "554\n",
      "553\n",
      "552\n",
      "551\n",
      "550\n",
      "549\n",
      "548\n",
      "547\n",
      "546\n",
      "545\n",
      "544\n",
      "543\n",
      "542\n",
      "541\n",
      "540\n",
      "539\n",
      "538\n",
      "537\n",
      "536\n",
      "535\n",
      "534\n",
      "533\n",
      "532\n",
      "531\n",
      "530\n",
      "529\n",
      "528\n",
      "527\n",
      "526\n",
      "525\n",
      "524\n",
      "523\n",
      "522\n",
      "521\n",
      "520\n",
      "519\n",
      "518\n",
      "517\n",
      "516\n",
      "515\n",
      "514\n",
      "513\n",
      "512\n",
      "511\n",
      "510\n",
      "509\n",
      "508\n",
      "507\n",
      "506\n",
      "505\n",
      "504\n",
      "503\n",
      "502\n",
      "501\n",
      "500\n",
      "499\n",
      "498\n",
      "497\n",
      "496\n",
      "495\n",
      "494\n",
      "493\n",
      "492\n",
      "491\n",
      "490\n",
      "489\n",
      "488\n",
      "487\n",
      "486\n",
      "485\n",
      "484\n",
      "483\n",
      "482\n",
      "481\n",
      "480\n",
      "479\n",
      "478\n",
      "477\n",
      "476\n",
      "475\n",
      "474\n",
      "473\n",
      "472\n",
      "471\n",
      "470\n",
      "469\n",
      "468\n",
      "467\n",
      "466\n",
      "465\n",
      "464\n",
      "463\n",
      "462\n",
      "461\n",
      "460\n",
      "459\n",
      "458\n",
      "457\n",
      "456\n",
      "455\n",
      "454\n",
      "453\n",
      "452\n",
      "451\n",
      "450\n",
      "449\n",
      "448\n",
      "447\n",
      "446\n",
      "445\n",
      "444\n",
      "443\n",
      "442\n",
      "441\n",
      "440\n",
      "439\n",
      "438\n",
      "437\n",
      "436\n",
      "435\n",
      "434\n",
      "433\n",
      "432\n",
      "431\n",
      "430\n",
      "429\n",
      "428\n",
      "427\n",
      "426\n",
      "425\n",
      "424\n",
      "423\n",
      "422\n",
      "421\n",
      "420\n",
      "419\n",
      "418\n",
      "417\n",
      "416\n",
      "415\n",
      "414\n",
      "413\n",
      "412\n",
      "411\n",
      "410\n",
      "409\n",
      "408\n",
      "407\n",
      "406\n",
      "405\n",
      "404\n",
      "403\n",
      "402\n",
      "401\n",
      "400\n",
      "399\n",
      "398\n",
      "397\n",
      "396\n",
      "395\n",
      "394\n",
      "393\n",
      "392\n",
      "391\n",
      "390\n",
      "389\n",
      "388\n",
      "387\n",
      "386\n",
      "385\n",
      "384\n",
      "383\n",
      "382\n",
      "381\n",
      "380\n",
      "379\n",
      "378\n",
      "377\n",
      "376\n",
      "375\n",
      "374\n",
      "373\n",
      "372\n",
      "371\n",
      "370\n",
      "369\n",
      "368\n",
      "367\n",
      "366\n",
      "365\n",
      "364\n",
      "363\n",
      "362\n",
      "361\n",
      "360\n",
      "359\n",
      "358\n",
      "357\n",
      "356\n",
      "355\n",
      "354\n",
      "353\n",
      "352\n",
      "351\n",
      "350\n",
      "349\n",
      "348\n",
      "347\n",
      "346\n",
      "345\n",
      "344\n",
      "343\n",
      "342\n",
      "341\n",
      "340\n",
      "339\n",
      "338\n",
      "337\n",
      "336\n",
      "335\n",
      "334\n",
      "333\n",
      "332\n",
      "331\n",
      "330\n",
      "329\n",
      "328\n",
      "327\n",
      "326\n",
      "325\n",
      "324\n",
      "323\n",
      "322\n",
      "321\n",
      "320\n",
      "319\n",
      "318\n",
      "317\n",
      "316\n",
      "315\n",
      "314\n",
      "313\n",
      "312\n",
      "311\n",
      "310\n",
      "309\n",
      "308\n",
      "307\n",
      "306\n",
      "305\n",
      "304\n",
      "303\n",
      "302\n",
      "301\n",
      "300\n",
      "299\n",
      "298\n",
      "297\n",
      "296\n",
      "295\n",
      "294\n",
      "293\n",
      "292\n",
      "291\n",
      "290\n",
      "289\n",
      "288\n",
      "287\n",
      "286\n",
      "285\n",
      "284\n",
      "283\n",
      "282\n",
      "281\n",
      "280\n",
      "279\n",
      "278\n",
      "277\n",
      "276\n",
      "275\n",
      "274\n",
      "273\n",
      "272\n",
      "271\n",
      "270\n",
      "269\n",
      "268\n",
      "267\n",
      "266\n",
      "265\n",
      "264\n",
      "263\n",
      "262\n",
      "261\n",
      "260\n",
      "259\n",
      "258\n",
      "257\n",
      "256\n",
      "255\n",
      "254\n",
      "253\n",
      "252\n",
      "251\n",
      "250\n",
      "249\n",
      "248\n",
      "247\n",
      "246\n",
      "245\n",
      "244\n",
      "243\n",
      "242\n",
      "241\n",
      "240\n",
      "239\n",
      "238\n",
      "237\n",
      "236\n",
      "235\n",
      "234\n",
      "233\n",
      "232\n",
      "231\n",
      "230\n",
      "229\n",
      "228\n",
      "227\n",
      "226\n",
      "225\n",
      "224\n",
      "223\n",
      "222\n",
      "221\n",
      "220\n",
      "219\n",
      "218\n",
      "217\n",
      "216\n",
      "215\n",
      "214\n",
      "213\n",
      "212\n",
      "211\n",
      "210\n",
      "209\n",
      "208\n",
      "207\n",
      "206\n",
      "205\n",
      "204\n",
      "203\n",
      "202\n",
      "201\n",
      "200\n",
      "199\n",
      "198\n",
      "197\n",
      "196\n",
      "195\n",
      "194\n",
      "193\n",
      "192\n",
      "191\n",
      "190\n",
      "189\n",
      "188\n",
      "187\n",
      "186\n",
      "185\n",
      "184\n",
      "183\n",
      "182\n",
      "181\n",
      "180\n",
      "179\n",
      "178\n",
      "177\n",
      "176\n",
      "175\n",
      "174\n",
      "173\n",
      "172\n",
      "171\n",
      "170\n",
      "169\n",
      "168\n",
      "167\n",
      "166\n",
      "165\n",
      "164\n",
      "163\n",
      "162\n",
      "161\n",
      "160\n",
      "159\n",
      "158\n",
      "157\n",
      "156\n",
      "155\n",
      "154\n",
      "153\n",
      "152\n",
      "151\n",
      "150\n",
      "149\n",
      "148\n",
      "147\n",
      "146\n",
      "145\n",
      "144\n",
      "143\n",
      "142\n",
      "141\n",
      "140\n",
      "139\n",
      "138\n",
      "137\n",
      "136\n",
      "135\n",
      "134\n",
      "133\n",
      "132\n",
      "131\n",
      "130\n",
      "129\n",
      "128\n",
      "127\n",
      "126\n",
      "125\n",
      "124\n",
      "123\n",
      "122\n",
      "121\n",
      "120\n",
      "119\n",
      "118\n",
      "117\n",
      "116\n",
      "115\n",
      "114\n",
      "113\n",
      "112\n",
      "111\n",
      "110\n",
      "109\n",
      "108\n",
      "107\n",
      "106\n",
      "105\n",
      "104\n",
      "103\n",
      "102\n",
      "101\n",
      "100\n",
      "99\n",
      "98\n",
      "97\n",
      "96\n",
      "95\n",
      "94\n",
      "93\n",
      "92\n",
      "91\n",
      "90\n",
      "89\n",
      "88\n",
      "87\n",
      "86\n",
      "85\n",
      "84\n",
      "83\n",
      "82\n",
      "81\n",
      "80\n",
      "79\n",
      "78\n",
      "77\n",
      "76\n",
      "75\n",
      "74\n",
      "73\n",
      "72\n",
      "71\n",
      "70\n",
      "69\n",
      "68\n",
      "67\n",
      "66\n",
      "65\n",
      "64\n",
      "63\n",
      "62\n",
      "61\n",
      "60\n",
      "59\n",
      "58\n",
      "57\n",
      "56\n",
      "55\n",
      "54\n",
      "53\n",
      "52\n",
      "51\n",
      "50\n",
      "49\n",
      "48\n",
      "47\n",
      "46\n",
      "45\n",
      "44\n",
      "43\n",
      "42\n",
      "41\n",
      "40\n",
      "39\n",
      "38\n",
      "37\n",
      "36\n",
      "35\n",
      "34\n",
      "33\n",
      "32\n",
      "31\n",
      "30\n",
      "29\n",
      "28\n",
      "27\n",
      "26\n",
      "25\n",
      "24\n",
      "23\n",
      "22\n",
      "21\n",
      "20\n",
      "19\n",
      "18\n",
      "17\n",
      "16\n",
      "15\n",
      "14\n",
      "13\n",
      "12\n",
      "11\n",
      "10\n",
      "9\n",
      "8\n",
      "7\n",
      "6\n",
      "5\n",
      "4\n",
      "3\n",
      "2\n",
      "1\n"
     ]
    }
   ],
   "source": [
    "seed = torch.randn_like(x, device=device)\n",
    "  \n",
    "with torch.no_grad():\n",
    "        for t in range(T, 0, -1):\n",
    "            for u in range(1, U+1):\n",
    "                eps = torch.randn(\n",
    "                    *x.shape, device=device) if t > 1 else torch.zeros(*x.shape, device=device)\n",
    "                ts = torch.zeros(x.shape[0], device=device, dtype=torch.int64) + t\n",
    "\n",
    "                # Known\n",
    "                x_t_known = schedule[\"sqrt_alpha_bar\"][ts - 1][..., None, None, None] * x + \\\n",
    "                    schedule[\"sqrt_one_minus_alpha_bar\"][ts - 1][..., None, None, None] * eps\n",
    "                \n",
    "                # Unknown\n",
    "                z = torch.randn(\n",
    "                    *x.shape, device=device) if t > 1 else torch.zeros(*x.shape, device=device)\n",
    "\n",
    "                pred_eps = net(seed, ts.float())\n",
    "                term1 = schedule[\"oneover_sqrta\"][t - 1]\n",
    "                term2 = seed - (schedule[\"mab_over_sqrtmab\"][t - 1] * pred_eps)\n",
    "                term3 = z * schedule[\"std_t\"][t - 1]\n",
    "                x_t_unknown = term1 * term2 + term3\n",
    "                \n",
    "                # Compose\n",
    "                composed = mask * x_t_known + (1-mask) * x_t_unknown\n",
    "                \n",
    "                if u < U and t > 1:\n",
    "                    stdnorm = torch.randn_like(x, device=device)\n",
    "                    composed = torch.sqrt(schedule[\"alphas\"][t - 2]) * composed + torch.sqrt(\n",
    "                        1 - schedule[\"alphas\"][t - 2]) * stdnorm\n",
    "\n",
    "                seed = composed\n",
    "            print(t)"
   ]
  },
  {
   "cell_type": "code",
   "execution_count": 30,
   "id": "9e825195",
   "metadata": {
    "scrolled": true
   },
   "outputs": [
    {
     "data": {
      "text/plain": [
       "torch.Size([20, 1, 24, 24])"
      ]
     },
     "execution_count": 30,
     "metadata": {},
     "output_type": "execute_result"
    }
   ],
   "source": [
    "composed.shape"
   ]
  },
  {
   "cell_type": "code",
   "execution_count": 31,
   "id": "117434ad",
   "metadata": {},
   "outputs": [],
   "source": [
    "inpaint_data = get_plot_data(composed)"
   ]
  },
  {
   "cell_type": "code",
   "execution_count": 32,
   "id": "3db4477a",
   "metadata": {},
   "outputs": [
    {
     "data": {
      "text/plain": [
       "(20, 24, 24)"
      ]
     },
     "execution_count": 32,
     "metadata": {},
     "output_type": "execute_result"
    }
   ],
   "source": [
    "inpaint_data.shape"
   ]
  },
  {
   "cell_type": "markdown",
   "id": "201d9372",
   "metadata": {},
   "source": [
    "## Reverse"
   ]
  },
  {
   "cell_type": "code",
   "execution_count": 38,
   "id": "adf934bd",
   "metadata": {},
   "outputs": [],
   "source": [
    "diag = np.random.random(size=[20,24])"
   ]
  },
  {
   "cell_type": "code",
   "execution_count": 39,
   "id": "494343f2",
   "metadata": {},
   "outputs": [],
   "source": [
    "for i in range(len(diag)):\n",
    "    a = np.diag(inpaint_data[i])\n",
    "    diag[i] = a"
   ]
  },
  {
   "cell_type": "code",
   "execution_count": 65,
   "id": "8775d528",
   "metadata": {},
   "outputs": [
    {
     "data": {
      "text/plain": [
       "(20, 24, 24)"
      ]
     },
     "execution_count": 65,
     "metadata": {},
     "output_type": "execute_result"
    }
   ],
   "source": [
    "inpaint_data.shape"
   ]
  },
  {
   "cell_type": "code",
   "execution_count": 66,
   "id": "25afcbaf",
   "metadata": {},
   "outputs": [
    {
     "data": {
      "text/plain": [
       "numpy.ndarray"
      ]
     },
     "execution_count": 66,
     "metadata": {},
     "output_type": "execute_result"
    }
   ],
   "source": [
    "type(inpaint_data)"
   ]
  },
  {
   "cell_type": "code",
   "execution_count": 71,
   "id": "9aa0c75d",
   "metadata": {},
   "outputs": [],
   "source": [
    "isnan = np.isnan(diag)"
   ]
  },
  {
   "cell_type": "code",
   "execution_count": 72,
   "id": "112c96a8",
   "metadata": {},
   "outputs": [
    {
     "name": "stdout",
     "output_type": "stream",
     "text": [
      "False\n"
     ]
    }
   ],
   "source": [
    "print(True in isnan)"
   ]
  },
  {
   "cell_type": "code",
   "execution_count": 76,
   "id": "1f9ea95c",
   "metadata": {},
   "outputs": [],
   "source": [
    "diag = np.where(diag>=1.,1.,diag)\n",
    "diag = np.where(diag<= -1.,-1.,diag)"
   ]
  },
  {
   "cell_type": "code",
   "execution_count": 77,
   "id": "5795982a",
   "metadata": {},
   "outputs": [
    {
     "data": {
      "text/plain": [
       "(20, 24)"
      ]
     },
     "execution_count": 77,
     "metadata": {},
     "output_type": "execute_result"
    }
   ],
   "source": [
    "diag.shape"
   ]
  },
  {
   "cell_type": "code",
   "execution_count": 78,
   "id": "05091ca5",
   "metadata": {},
   "outputs": [
    {
     "data": {
      "text/plain": [
       "-1.0"
      ]
     },
     "execution_count": 78,
     "metadata": {},
     "output_type": "execute_result"
    }
   ],
   "source": [
    "np.min(diag)"
   ]
  },
  {
   "cell_type": "code",
   "execution_count": 79,
   "id": "ca69cdb2",
   "metadata": {},
   "outputs": [],
   "source": [
    "def reverse(x):\n",
    "    phi = np.sqrt((x+1)/2)\n",
    "    return phi"
   ]
  },
  {
   "cell_type": "code",
   "execution_count": 80,
   "id": "b894cce6",
   "metadata": {},
   "outputs": [],
   "source": [
    "reverse_data = reverse(diag)"
   ]
  },
  {
   "cell_type": "code",
   "execution_count": 81,
   "id": "4380c3ba",
   "metadata": {},
   "outputs": [
    {
     "data": {
      "text/plain": [
       "(20, 24)"
      ]
     },
     "execution_count": 81,
     "metadata": {},
     "output_type": "execute_result"
    }
   ],
   "source": [
    "reverse_data.shape"
   ]
  },
  {
   "cell_type": "code",
   "execution_count": 82,
   "id": "6e212b01",
   "metadata": {},
   "outputs": [
    {
     "data": {
      "text/plain": [
       "[<matplotlib.lines.Line2D at 0x2381f50feb0>]"
      ]
     },
     "execution_count": 82,
     "metadata": {},
     "output_type": "execute_result"
    },
    {
     "data": {
      "image/png": "[encoded data removed]",
      "text/plain": [
       "<Figure size 640x480 with 1 Axes>"
      ]
     },
     "metadata": {},
     "output_type": "display_data"
    }
   ],
   "source": [
    "plt.plot(reverse_data[0])"
   ]
  },
  {
   "cell_type": "code",
   "execution_count": 83,
   "id": "9efffd6b",
   "metadata": {},
   "outputs": [
    {
     "data": {
      "text/plain": [
       "(365, 24)"
      ]
     },
     "execution_count": 83,
     "metadata": {},
     "output_type": "execute_result"
    }
   ],
   "source": [
    "ori_data.shape"
   ]
  },
  {
   "cell_type": "code",
   "execution_count": 99,
   "id": "397dd284",
   "metadata": {},
   "outputs": [],
   "source": [
    "test_data_ = test_data.reshape(1,-1)"
   ]
  },
  {
   "cell_type": "code",
   "execution_count": 102,
   "id": "ad6385b2",
   "metadata": {},
   "outputs": [],
   "source": [
    "test_data_ = test_data_.squeeze(0)"
   ]
  },
  {
   "cell_type": "code",
   "execution_count": 103,
   "id": "32f2c1c6",
   "metadata": {},
   "outputs": [
    {
     "data": {
      "text/plain": [
       "[<matplotlib.lines.Line2D at 0x23821297c40>]"
      ]
     },
     "execution_count": 103,
     "metadata": {},
     "output_type": "execute_result"
    },
    {
     "data": {
      "image/png": "[encoded data removed]",
      "text/plain": [
       "<Figure size 640x480 with 1 Axes>"
      ]
     },
     "metadata": {},
     "output_type": "display_data"
    }
   ],
   "source": [
    "plt.plot(test_data_)"
   ]
  },
  {
   "cell_type": "code",
   "execution_count": 84,
   "id": "aa6c0f39",
   "metadata": {},
   "outputs": [],
   "source": [
    "test_data = ori_data[300:320]\n",
    "from sklearn.preprocessing import MinMaxScaler\n",
    "scaler = MinMaxScaler()"
   ]
  },
  {
   "cell_type": "code",
   "execution_count": 85,
   "id": "af5b6551",
   "metadata": {},
   "outputs": [],
   "source": [
    "scaled_test = scaler.fit_transform(test_data.T).T"
   ]
  },
  {
   "cell_type": "code",
   "execution_count": 86,
   "id": "2890a069",
   "metadata": {},
   "outputs": [],
   "source": [
    "reverse_denorm_data = scaler.inverse_transform(reverse_data.T).T"
   ]
  },
  {
   "cell_type": "code",
   "execution_count": 87,
   "id": "9ae94ffd",
   "metadata": {},
   "outputs": [
    {
     "data": {
      "text/plain": [
       "(20, 24)"
      ]
     },
     "execution_count": 87,
     "metadata": {},
     "output_type": "execute_result"
    }
   ],
   "source": [
    "reverse_denorm_data.shape"
   ]
  },
  {
   "cell_type": "code",
   "execution_count": 88,
   "id": "9f5e399c",
   "metadata": {},
   "outputs": [
    {
     "data": {
      "text/plain": [
       "[<matplotlib.lines.Line2D at 0x2381f1f24c0>]"
      ]
     },
     "execution_count": 88,
     "metadata": {},
     "output_type": "execute_result"
    },
    {
     "data": {
      "image/png": "[encoded data removed]",
      "text/plain": [
       "<Figure size 640x480 with 1 Axes>"
      ]
     },
     "metadata": {},
     "output_type": "display_data"
    }
   ],
   "source": [
    "plt.plot(reverse_denorm_data[11])\n",
    "plt.plot(test_data[11])"
   ]
  },
  {
   "cell_type": "code",
   "execution_count": 90,
   "id": "52d1fd8b",
   "metadata": {},
   "outputs": [
    {
     "data": {
      "text/plain": [
       "[<matplotlib.lines.Line2D at 0x2381f270070>]"
      ]
     },
     "execution_count": 90,
     "metadata": {},
     "output_type": "execute_result"
    },
    {
     "data": {
      "image/png": "[encoded data removed]",
      "text/plain": [
       "<Figure size 640x480 with 1 Axes>"
      ]
     },
     "metadata": {},
     "output_type": "display_data"
    }
   ],
   "source": [
    "plt.plot(reverse_denorm_data[11])"
   ]
  },
  {
   "cell_type": "code",
   "execution_count": 91,
   "id": "9bfa07bb",
   "metadata": {},
   "outputs": [
    {
     "data": {
      "text/plain": [
       "(20, 24)"
      ]
     },
     "execution_count": 91,
     "metadata": {},
     "output_type": "execute_result"
    }
   ],
   "source": [
    "reverse_denorm_data.shape"
   ]
  },
  {
   "cell_type": "code",
   "execution_count": 93,
   "id": "e136a540",
   "metadata": {},
   "outputs": [],
   "source": [
    "draw_data = reverse_denorm_data.copy()"
   ]
  },
  {
   "cell_type": "code",
   "execution_count": 94,
   "id": "fb9ef2ff",
   "metadata": {},
   "outputs": [],
   "source": [
    "final_draw = draw_data[12:18,:]"
   ]
  },
  {
   "cell_type": "code",
   "execution_count": 95,
   "id": "146883e5",
   "metadata": {},
   "outputs": [
    {
     "data": {
      "text/plain": [
       "(6, 24)"
      ]
     },
     "execution_count": 95,
     "metadata": {},
     "output_type": "execute_result"
    }
   ],
   "source": [
    "final_draw.shape"
   ]
  },
  {
   "cell_type": "code",
   "execution_count": 114,
   "id": "bd5c3034",
   "metadata": {},
   "outputs": [],
   "source": [
    "t = np.linspace(0,23,24)"
   ]
  },
  {
   "cell_type": "code",
   "execution_count": 119,
   "id": "ed8ac1db",
   "metadata": {},
   "outputs": [
    {
     "data": {
      "image/png": "[encoded data removed]",
      "text/plain": [
       "<Figure size 800x450 with 6 Axes>"
      ]
     },
     "metadata": {},
     "output_type": "display_data"
    }
   ],
   "source": [
    "fig, axs = plt.subplots(2, 3, figsize=(8,4.5))\n",
    "\n",
    "axs[0, 0].plot(t, final_draw[0],'#FC6736',marker='p')\n",
    "axs[0, 1].plot(t, final_draw[1],'#FC6736',marker='p')\n",
    "axs[0, 2].plot(t, final_draw[2],'#FC6736',marker='p')\n",
    "axs[1, 0].plot(t, final_draw[3],'#FC6736',marker='p')\n",
    "axs[1, 1].plot(t, final_draw[4],'#FC6736',marker='p')\n",
    "axs[1, 2].plot(t, final_draw[5],'#FC6736',marker='p')\n",
    "\n",
    "'''\n",
    "for ax in axs.flat:\n",
    "    ax.set(xlabel='Time/h', ylabel='Load/kW',)\n",
    "'''\n",
    "# Hide x labels and tick labels for top plots and y ticks for right plots.\n",
    "for ax in axs.flat:\n",
    "    ax.tick_params(axis='both',labelsize=12)\n",
    "\n",
    "for ax in axs.flat:\n",
    "    ax.label_outer()\n",
    "\n",
    "    \n",
    "plt.tight_layout()\n",
    "plt.savefig('imputed_1d.svg')\n",
    "plt.show()"
   ]
  },
  {
   "cell_type": "code",
   "execution_count": null,
   "id": "9d210b8c",
   "metadata": {},
   "outputs": [],
   "source": []
  },
  {
   "cell_type": "code",
   "execution_count": 110,
   "id": "d37ff140",
   "metadata": {},
   "outputs": [
    {
     "data": {
      "image/png": "[encoded data removed]",
      "text/plain": [
       "<Figure size 1000x600 with 1 Axes>"
      ]
     },
     "metadata": {},
     "output_type": "display_data"
    }
   ],
   "source": [
    "font = {'family' : 'Times New Roman',\n",
    "'weight' : 'normal',\n",
    "'size'   : 18,\n",
    "}\n",
    "\n",
    "\n",
    "plt.figure(figsize=(10, 6))\n",
    "\n",
    "x = np.linspace(0,143,144)\n",
    "original_data = test_data[12:18,:].reshape(1,-1)\n",
    "original_data = original_data.squeeze(0)\n",
    "imputed_data =final_draw.reshape(1,-1)\n",
    "imputed_data = imputed_data.squeeze(0)\n",
    "\n",
    "plt.xlim([0,144])\n",
    "x_major_locator=MultipleLocator(24)\n",
    "ax=plt.gca()\n",
    "ax.xaxis.set_major_locator(x_major_locator)\n",
    "\n",
    "\n",
    "plt.xticks(fontproperties = 'Times New Roman', size = 18)\n",
    "plt.yticks(fontproperties = 'Times New Roman', size = 18)\n",
    "\n",
    "plt.ylabel(\"Load/kW\",font)  # 设置Y轴标签\n",
    "plt.xlabel(\"Time Step/h\",font)  # 设置X轴标签\n",
    "\n",
    "\n",
    "ln1, = plt.plot(x, original_data,color='#FC6736', marker='o', linestyle='-', label='original data')\n",
    "ln2, = plt.plot(x, imputed_data,color='#40A2E3', marker='s', linestyle='--', label='imputed data ')\n",
    "\n",
    "plt.legend([ln1,ln2],['original data','imputed data'],loc = 0)\n",
    "\n",
    "ax.legend(labels = ['Original','Imputed'],loc = 0,prop = font)\n",
    "\n",
    "#plt.show()\n",
    "\n",
    "plt.savefig(\"1_D compare1.svg\")"
   ]
  }
 ],
 "metadata": {
  "kernelspec": {
   "display_name": "Python 3 (ipykernel)",
   "language": "python",
   "name": "python3"
  },
  "language_info": {
   "codemirror_mode": {
    "name": "ipython",
    "version": 3
   },
   "file_extension": ".py",
   "mimetype": "text/x-python",
   "name": "python",
   "nbconvert_exporter": "python",
   "pygments_lexer": "ipython3",
   "version": "3.8.8"
  },
  "toc": {
   "base_numbering": 1,
   "nav_menu": {},
   "number_sections": true,
   "sideBar": true,
   "skip_h1_title": false,
   "title_cell": "Table of Contents",
   "title_sidebar": "Contents",
   "toc_cell": false,
   "toc_position": {},
   "toc_section_display": true,
   "toc_window_display": false
  },
  "varInspector": {
   "cols": {
    "lenName": 16,
    "lenType": 16,
    "lenVar": 40
   },
   "kernels_config": {
    "python": {
     "delete_cmd_postfix": "",
     "delete_cmd_prefix": "del ",
     "library": "var_list.py",
     "varRefreshCmd": "print(var_dic_list())"
    },
    "r": {
     "delete_cmd_postfix": ") ",
     "delete_cmd_prefix": "rm(",
     "library": "var_list.r",
     "varRefreshCmd": "cat(var_dic_list()) "
    }
   },
   "types_to_exclude": [
    "module",
    "function",
    "builtin_function_or_method",
    "instance",
    "_Feature"
   ],
   "window_display": false
  }
 },
 "nbformat": 4,
 "nbformat_minor": 5
}
